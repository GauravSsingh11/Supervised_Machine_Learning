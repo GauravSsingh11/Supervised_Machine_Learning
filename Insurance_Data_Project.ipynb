{
 "cells": [
  {
   "cell_type": "code",
   "execution_count": 1,
   "metadata": {},
   "outputs": [],
   "source": [
    "import pandas as pd\n",
    "import numpy as np\n"
   ]
  },
  {
   "cell_type": "markdown",
   "metadata": {},
   "source": [
    "# Read the file"
   ]
  },
  {
   "cell_type": "code",
   "execution_count": 2,
   "metadata": {},
   "outputs": [],
   "source": [
    "df=pd.read_csv(r'C:\\Users\\Gaurav Singh\\Downloads\\insurance.csv')"
   ]
  },
  {
   "cell_type": "markdown",
   "metadata": {},
   "source": [
    "We get the top 5 values by this."
   ]
  },
  {
   "cell_type": "code",
   "execution_count": 3,
   "metadata": {},
   "outputs": [
    {
     "data": {
      "text/html": [
       "<div>\n",
       "<style scoped>\n",
       "    .dataframe tbody tr th:only-of-type {\n",
       "        vertical-align: middle;\n",
       "    }\n",
       "\n",
       "    .dataframe tbody tr th {\n",
       "        vertical-align: top;\n",
       "    }\n",
       "\n",
       "    .dataframe thead th {\n",
       "        text-align: right;\n",
       "    }\n",
       "</style>\n",
       "<table border=\"1\" class=\"dataframe\">\n",
       "  <thead>\n",
       "    <tr style=\"text-align: right;\">\n",
       "      <th></th>\n",
       "      <th>age</th>\n",
       "      <th>sex</th>\n",
       "      <th>bmi</th>\n",
       "      <th>children</th>\n",
       "      <th>smoker</th>\n",
       "      <th>region</th>\n",
       "      <th>charges</th>\n",
       "    </tr>\n",
       "  </thead>\n",
       "  <tbody>\n",
       "    <tr>\n",
       "      <th>0</th>\n",
       "      <td>19</td>\n",
       "      <td>female</td>\n",
       "      <td>27.900</td>\n",
       "      <td>0</td>\n",
       "      <td>yes</td>\n",
       "      <td>southwest</td>\n",
       "      <td>16884.92400</td>\n",
       "    </tr>\n",
       "    <tr>\n",
       "      <th>1</th>\n",
       "      <td>18</td>\n",
       "      <td>male</td>\n",
       "      <td>33.770</td>\n",
       "      <td>1</td>\n",
       "      <td>no</td>\n",
       "      <td>southeast</td>\n",
       "      <td>1725.55230</td>\n",
       "    </tr>\n",
       "    <tr>\n",
       "      <th>2</th>\n",
       "      <td>28</td>\n",
       "      <td>male</td>\n",
       "      <td>33.000</td>\n",
       "      <td>3</td>\n",
       "      <td>no</td>\n",
       "      <td>southeast</td>\n",
       "      <td>4449.46200</td>\n",
       "    </tr>\n",
       "    <tr>\n",
       "      <th>3</th>\n",
       "      <td>33</td>\n",
       "      <td>male</td>\n",
       "      <td>22.705</td>\n",
       "      <td>0</td>\n",
       "      <td>no</td>\n",
       "      <td>northwest</td>\n",
       "      <td>21984.47061</td>\n",
       "    </tr>\n",
       "    <tr>\n",
       "      <th>4</th>\n",
       "      <td>32</td>\n",
       "      <td>male</td>\n",
       "      <td>28.880</td>\n",
       "      <td>0</td>\n",
       "      <td>no</td>\n",
       "      <td>northwest</td>\n",
       "      <td>3866.85520</td>\n",
       "    </tr>\n",
       "  </tbody>\n",
       "</table>\n",
       "</div>"
      ],
      "text/plain": [
       "   age     sex     bmi  children smoker     region      charges\n",
       "0   19  female  27.900         0    yes  southwest  16884.92400\n",
       "1   18    male  33.770         1     no  southeast   1725.55230\n",
       "2   28    male  33.000         3     no  southeast   4449.46200\n",
       "3   33    male  22.705         0     no  northwest  21984.47061\n",
       "4   32    male  28.880         0     no  northwest   3866.85520"
      ]
     },
     "execution_count": 3,
     "metadata": {},
     "output_type": "execute_result"
    }
   ],
   "source": [
    "df.head()"
   ]
  },
  {
   "cell_type": "markdown",
   "metadata": {},
   "source": [
    "We get bottom 5 values by this."
   ]
  },
  {
   "cell_type": "code",
   "execution_count": 4,
   "metadata": {},
   "outputs": [
    {
     "data": {
      "text/html": [
       "<div>\n",
       "<style scoped>\n",
       "    .dataframe tbody tr th:only-of-type {\n",
       "        vertical-align: middle;\n",
       "    }\n",
       "\n",
       "    .dataframe tbody tr th {\n",
       "        vertical-align: top;\n",
       "    }\n",
       "\n",
       "    .dataframe thead th {\n",
       "        text-align: right;\n",
       "    }\n",
       "</style>\n",
       "<table border=\"1\" class=\"dataframe\">\n",
       "  <thead>\n",
       "    <tr style=\"text-align: right;\">\n",
       "      <th></th>\n",
       "      <th>age</th>\n",
       "      <th>sex</th>\n",
       "      <th>bmi</th>\n",
       "      <th>children</th>\n",
       "      <th>smoker</th>\n",
       "      <th>region</th>\n",
       "      <th>charges</th>\n",
       "    </tr>\n",
       "  </thead>\n",
       "  <tbody>\n",
       "    <tr>\n",
       "      <th>1333</th>\n",
       "      <td>50</td>\n",
       "      <td>male</td>\n",
       "      <td>30.97</td>\n",
       "      <td>3</td>\n",
       "      <td>no</td>\n",
       "      <td>northwest</td>\n",
       "      <td>10600.5483</td>\n",
       "    </tr>\n",
       "    <tr>\n",
       "      <th>1334</th>\n",
       "      <td>18</td>\n",
       "      <td>female</td>\n",
       "      <td>31.92</td>\n",
       "      <td>0</td>\n",
       "      <td>no</td>\n",
       "      <td>northeast</td>\n",
       "      <td>2205.9808</td>\n",
       "    </tr>\n",
       "    <tr>\n",
       "      <th>1335</th>\n",
       "      <td>18</td>\n",
       "      <td>female</td>\n",
       "      <td>36.85</td>\n",
       "      <td>0</td>\n",
       "      <td>no</td>\n",
       "      <td>southeast</td>\n",
       "      <td>1629.8335</td>\n",
       "    </tr>\n",
       "    <tr>\n",
       "      <th>1336</th>\n",
       "      <td>21</td>\n",
       "      <td>female</td>\n",
       "      <td>25.80</td>\n",
       "      <td>0</td>\n",
       "      <td>no</td>\n",
       "      <td>southwest</td>\n",
       "      <td>2007.9450</td>\n",
       "    </tr>\n",
       "    <tr>\n",
       "      <th>1337</th>\n",
       "      <td>61</td>\n",
       "      <td>female</td>\n",
       "      <td>29.07</td>\n",
       "      <td>0</td>\n",
       "      <td>yes</td>\n",
       "      <td>northwest</td>\n",
       "      <td>29141.3603</td>\n",
       "    </tr>\n",
       "  </tbody>\n",
       "</table>\n",
       "</div>"
      ],
      "text/plain": [
       "      age     sex    bmi  children smoker     region     charges\n",
       "1333   50    male  30.97         3     no  northwest  10600.5483\n",
       "1334   18  female  31.92         0     no  northeast   2205.9808\n",
       "1335   18  female  36.85         0     no  southeast   1629.8335\n",
       "1336   21  female  25.80         0     no  southwest   2007.9450\n",
       "1337   61  female  29.07         0    yes  northwest  29141.3603"
      ]
     },
     "execution_count": 4,
     "metadata": {},
     "output_type": "execute_result"
    }
   ],
   "source": [
    "df.tail()"
   ]
  },
  {
   "cell_type": "markdown",
   "metadata": {},
   "source": [
    "# Info use"
   ]
  },
  {
   "cell_type": "markdown",
   "metadata": {},
   "source": [
    "By the help of info we get information about columns"
   ]
  },
  {
   "cell_type": "code",
   "execution_count": 5,
   "metadata": {},
   "outputs": [
    {
     "name": "stdout",
     "output_type": "stream",
     "text": [
      "<class 'pandas.core.frame.DataFrame'>\n",
      "RangeIndex: 1338 entries, 0 to 1337\n",
      "Data columns (total 7 columns):\n",
      "age         1338 non-null int64\n",
      "sex         1338 non-null object\n",
      "bmi         1338 non-null float64\n",
      "children    1338 non-null int64\n",
      "smoker      1338 non-null object\n",
      "region      1338 non-null object\n",
      "charges     1338 non-null float64\n",
      "dtypes: float64(2), int64(2), object(3)\n",
      "memory usage: 73.2+ KB\n"
     ]
    }
   ],
   "source": [
    "df.info()"
   ]
  },
  {
   "cell_type": "code",
   "execution_count": 6,
   "metadata": {},
   "outputs": [
    {
     "data": {
      "text/plain": [
       "(1338, 7)"
      ]
     },
     "execution_count": 6,
     "metadata": {},
     "output_type": "execute_result"
    }
   ],
   "source": [
    "df.shape"
   ]
  },
  {
   "cell_type": "markdown",
   "metadata": {},
   "source": [
    "Describe the data and it give mean standerd daviation and all"
   ]
  },
  {
   "cell_type": "code",
   "execution_count": 7,
   "metadata": {},
   "outputs": [
    {
     "data": {
      "text/html": [
       "<div>\n",
       "<style scoped>\n",
       "    .dataframe tbody tr th:only-of-type {\n",
       "        vertical-align: middle;\n",
       "    }\n",
       "\n",
       "    .dataframe tbody tr th {\n",
       "        vertical-align: top;\n",
       "    }\n",
       "\n",
       "    .dataframe thead th {\n",
       "        text-align: right;\n",
       "    }\n",
       "</style>\n",
       "<table border=\"1\" class=\"dataframe\">\n",
       "  <thead>\n",
       "    <tr style=\"text-align: right;\">\n",
       "      <th></th>\n",
       "      <th>count</th>\n",
       "      <th>mean</th>\n",
       "      <th>std</th>\n",
       "      <th>min</th>\n",
       "      <th>25%</th>\n",
       "      <th>50%</th>\n",
       "      <th>75%</th>\n",
       "      <th>max</th>\n",
       "    </tr>\n",
       "  </thead>\n",
       "  <tbody>\n",
       "    <tr>\n",
       "      <th>age</th>\n",
       "      <td>1338.0</td>\n",
       "      <td>39.207025</td>\n",
       "      <td>14.049960</td>\n",
       "      <td>18.0000</td>\n",
       "      <td>27.00000</td>\n",
       "      <td>39.000</td>\n",
       "      <td>51.000000</td>\n",
       "      <td>64.00000</td>\n",
       "    </tr>\n",
       "    <tr>\n",
       "      <th>bmi</th>\n",
       "      <td>1338.0</td>\n",
       "      <td>30.663397</td>\n",
       "      <td>6.098187</td>\n",
       "      <td>15.9600</td>\n",
       "      <td>26.29625</td>\n",
       "      <td>30.400</td>\n",
       "      <td>34.693750</td>\n",
       "      <td>53.13000</td>\n",
       "    </tr>\n",
       "    <tr>\n",
       "      <th>children</th>\n",
       "      <td>1338.0</td>\n",
       "      <td>1.094918</td>\n",
       "      <td>1.205493</td>\n",
       "      <td>0.0000</td>\n",
       "      <td>0.00000</td>\n",
       "      <td>1.000</td>\n",
       "      <td>2.000000</td>\n",
       "      <td>5.00000</td>\n",
       "    </tr>\n",
       "    <tr>\n",
       "      <th>charges</th>\n",
       "      <td>1338.0</td>\n",
       "      <td>13270.422265</td>\n",
       "      <td>12110.011237</td>\n",
       "      <td>1121.8739</td>\n",
       "      <td>4740.28715</td>\n",
       "      <td>9382.033</td>\n",
       "      <td>16639.912515</td>\n",
       "      <td>63770.42801</td>\n",
       "    </tr>\n",
       "  </tbody>\n",
       "</table>\n",
       "</div>"
      ],
      "text/plain": [
       "           count          mean           std        min         25%       50%  \\\n",
       "age       1338.0     39.207025     14.049960    18.0000    27.00000    39.000   \n",
       "bmi       1338.0     30.663397      6.098187    15.9600    26.29625    30.400   \n",
       "children  1338.0      1.094918      1.205493     0.0000     0.00000     1.000   \n",
       "charges   1338.0  13270.422265  12110.011237  1121.8739  4740.28715  9382.033   \n",
       "\n",
       "                   75%          max  \n",
       "age          51.000000     64.00000  \n",
       "bmi          34.693750     53.13000  \n",
       "children      2.000000      5.00000  \n",
       "charges   16639.912515  63770.42801  "
      ]
     },
     "execution_count": 7,
     "metadata": {},
     "output_type": "execute_result"
    }
   ],
   "source": [
    "df.describe().T"
   ]
  },
  {
   "cell_type": "markdown",
   "metadata": {},
   "source": [
    "Using df.dtypes it shows the columns data types which is in int,flot or object"
   ]
  },
  {
   "cell_type": "code",
   "execution_count": 8,
   "metadata": {},
   "outputs": [
    {
     "data": {
      "text/plain": [
       "age           int64\n",
       "sex          object\n",
       "bmi         float64\n",
       "children      int64\n",
       "smoker       object\n",
       "region       object\n",
       "charges     float64\n",
       "dtype: object"
      ]
     },
     "execution_count": 8,
     "metadata": {},
     "output_type": "execute_result"
    }
   ],
   "source": [
    "df.dtypes"
   ]
  },
  {
   "cell_type": "markdown",
   "metadata": {},
   "source": [
    "Checking Missing Values"
   ]
  },
  {
   "cell_type": "code",
   "execution_count": 9,
   "metadata": {},
   "outputs": [
    {
     "data": {
      "text/plain": [
       "age         0\n",
       "sex         0\n",
       "bmi         0\n",
       "children    0\n",
       "smoker      0\n",
       "region      0\n",
       "charges     0\n",
       "dtype: int64"
      ]
     },
     "execution_count": 9,
     "metadata": {},
     "output_type": "execute_result"
    }
   ],
   "source": [
    "df.isna().sum()"
   ]
  },
  {
   "cell_type": "markdown",
   "metadata": {},
   "source": [
    "if we have any columns which has object data type then we use labelencoder. With the help of labelencoder we change the data into int."
   ]
  },
  {
   "cell_type": "code",
   "execution_count": 10,
   "metadata": {},
   "outputs": [],
   "source": [
    "from sklearn.preprocessing import LabelEncoder"
   ]
  },
  {
   "cell_type": "code",
   "execution_count": 11,
   "metadata": {},
   "outputs": [],
   "source": [
    "le=LabelEncoder()"
   ]
  },
  {
   "cell_type": "code",
   "execution_count": 12,
   "metadata": {},
   "outputs": [],
   "source": [
    "df['sex']=le.fit_transform(df['sex'])"
   ]
  },
  {
   "cell_type": "code",
   "execution_count": 13,
   "metadata": {},
   "outputs": [],
   "source": [
    "df['smoker']=df['smoker'].astype('str')"
   ]
  },
  {
   "cell_type": "code",
   "execution_count": 14,
   "metadata": {},
   "outputs": [],
   "source": [
    "df['smoker']=le.fit_transform(df['smoker'])"
   ]
  },
  {
   "cell_type": "code",
   "execution_count": 15,
   "metadata": {},
   "outputs": [],
   "source": [
    "df['region']=le.fit_transform(df['region'])"
   ]
  },
  {
   "cell_type": "markdown",
   "metadata": {},
   "source": [
    "# Correlation"
   ]
  },
  {
   "cell_type": "markdown",
   "metadata": {},
   "source": [
    "Correlation gives the relation between multiple columns its range is 0 to 1"
   ]
  },
  {
   "cell_type": "code",
   "execution_count": 16,
   "metadata": {},
   "outputs": [],
   "source": [
    "corr=df.corr()"
   ]
  },
  {
   "cell_type": "code",
   "execution_count": 17,
   "metadata": {},
   "outputs": [
    {
     "data": {
      "text/html": [
       "<div>\n",
       "<style scoped>\n",
       "    .dataframe tbody tr th:only-of-type {\n",
       "        vertical-align: middle;\n",
       "    }\n",
       "\n",
       "    .dataframe tbody tr th {\n",
       "        vertical-align: top;\n",
       "    }\n",
       "\n",
       "    .dataframe thead th {\n",
       "        text-align: right;\n",
       "    }\n",
       "</style>\n",
       "<table border=\"1\" class=\"dataframe\">\n",
       "  <thead>\n",
       "    <tr style=\"text-align: right;\">\n",
       "      <th></th>\n",
       "      <th>age</th>\n",
       "      <th>sex</th>\n",
       "      <th>bmi</th>\n",
       "      <th>children</th>\n",
       "      <th>smoker</th>\n",
       "      <th>region</th>\n",
       "      <th>charges</th>\n",
       "    </tr>\n",
       "  </thead>\n",
       "  <tbody>\n",
       "    <tr>\n",
       "      <th>age</th>\n",
       "      <td>1.000000</td>\n",
       "      <td>-0.020856</td>\n",
       "      <td>0.109272</td>\n",
       "      <td>0.042469</td>\n",
       "      <td>-0.025019</td>\n",
       "      <td>0.002127</td>\n",
       "      <td>0.299008</td>\n",
       "    </tr>\n",
       "    <tr>\n",
       "      <th>sex</th>\n",
       "      <td>-0.020856</td>\n",
       "      <td>1.000000</td>\n",
       "      <td>0.046371</td>\n",
       "      <td>0.017163</td>\n",
       "      <td>0.076185</td>\n",
       "      <td>0.004588</td>\n",
       "      <td>0.057292</td>\n",
       "    </tr>\n",
       "    <tr>\n",
       "      <th>bmi</th>\n",
       "      <td>0.109272</td>\n",
       "      <td>0.046371</td>\n",
       "      <td>1.000000</td>\n",
       "      <td>0.012759</td>\n",
       "      <td>0.003750</td>\n",
       "      <td>0.157566</td>\n",
       "      <td>0.198341</td>\n",
       "    </tr>\n",
       "    <tr>\n",
       "      <th>children</th>\n",
       "      <td>0.042469</td>\n",
       "      <td>0.017163</td>\n",
       "      <td>0.012759</td>\n",
       "      <td>1.000000</td>\n",
       "      <td>0.007673</td>\n",
       "      <td>0.016569</td>\n",
       "      <td>0.067998</td>\n",
       "    </tr>\n",
       "    <tr>\n",
       "      <th>smoker</th>\n",
       "      <td>-0.025019</td>\n",
       "      <td>0.076185</td>\n",
       "      <td>0.003750</td>\n",
       "      <td>0.007673</td>\n",
       "      <td>1.000000</td>\n",
       "      <td>-0.002181</td>\n",
       "      <td>0.787251</td>\n",
       "    </tr>\n",
       "    <tr>\n",
       "      <th>region</th>\n",
       "      <td>0.002127</td>\n",
       "      <td>0.004588</td>\n",
       "      <td>0.157566</td>\n",
       "      <td>0.016569</td>\n",
       "      <td>-0.002181</td>\n",
       "      <td>1.000000</td>\n",
       "      <td>-0.006208</td>\n",
       "    </tr>\n",
       "    <tr>\n",
       "      <th>charges</th>\n",
       "      <td>0.299008</td>\n",
       "      <td>0.057292</td>\n",
       "      <td>0.198341</td>\n",
       "      <td>0.067998</td>\n",
       "      <td>0.787251</td>\n",
       "      <td>-0.006208</td>\n",
       "      <td>1.000000</td>\n",
       "    </tr>\n",
       "  </tbody>\n",
       "</table>\n",
       "</div>"
      ],
      "text/plain": [
       "               age       sex       bmi  children    smoker    region   charges\n",
       "age       1.000000 -0.020856  0.109272  0.042469 -0.025019  0.002127  0.299008\n",
       "sex      -0.020856  1.000000  0.046371  0.017163  0.076185  0.004588  0.057292\n",
       "bmi       0.109272  0.046371  1.000000  0.012759  0.003750  0.157566  0.198341\n",
       "children  0.042469  0.017163  0.012759  1.000000  0.007673  0.016569  0.067998\n",
       "smoker   -0.025019  0.076185  0.003750  0.007673  1.000000 -0.002181  0.787251\n",
       "region    0.002127  0.004588  0.157566  0.016569 -0.002181  1.000000 -0.006208\n",
       "charges   0.299008  0.057292  0.198341  0.067998  0.787251 -0.006208  1.000000"
      ]
     },
     "execution_count": 17,
     "metadata": {},
     "output_type": "execute_result"
    }
   ],
   "source": [
    "corr"
   ]
  },
  {
   "cell_type": "markdown",
   "metadata": {},
   "source": [
    "Import Matplotlib and seaborn for vissualization"
   ]
  },
  {
   "cell_type": "code",
   "execution_count": 18,
   "metadata": {},
   "outputs": [],
   "source": [
    "import matplotlib.pyplot as plt\n",
    "import seaborn as sns"
   ]
  },
  {
   "cell_type": "code",
   "execution_count": 19,
   "metadata": {},
   "outputs": [
    {
     "data": {
      "image/png": "[encoded data removed]",
      "text/plain": [
       "<Figure size 1080x1080 with 2 Axes>"
      ]
     },
     "metadata": {
      "needs_background": "light"
     },
     "output_type": "display_data"
    }
   ],
   "source": [
    "plt.figure(figsize=(15,15))\n",
    "sns.heatmap(corr,vmax=+1,vmin=-1,fmt='g',cmap='RdYlGn',annot=True)\n",
    "plt.title('Insurance_Correlation',fontsize=20)\n",
    "plt.show()"
   ]
  },
  {
   "cell_type": "markdown",
   "metadata": {},
   "source": [
    "The Follwing table defins the corelation amongust the attributes of the table. More data insights are explaing as per the Heatmap"
   ]
  },
  {
   "cell_type": "code",
   "execution_count": 20,
   "metadata": {},
   "outputs": [
    {
     "data": {
      "text/html": [
       "<div>\n",
       "<style scoped>\n",
       "    .dataframe tbody tr th:only-of-type {\n",
       "        vertical-align: middle;\n",
       "    }\n",
       "\n",
       "    .dataframe tbody tr th {\n",
       "        vertical-align: top;\n",
       "    }\n",
       "\n",
       "    .dataframe thead th {\n",
       "        text-align: right;\n",
       "    }\n",
       "</style>\n",
       "<table border=\"1\" class=\"dataframe\">\n",
       "  <thead>\n",
       "    <tr style=\"text-align: right;\">\n",
       "      <th></th>\n",
       "      <th>age</th>\n",
       "      <th>sex</th>\n",
       "      <th>bmi</th>\n",
       "      <th>children</th>\n",
       "      <th>smoker</th>\n",
       "      <th>region</th>\n",
       "      <th>charges</th>\n",
       "    </tr>\n",
       "  </thead>\n",
       "  <tbody>\n",
       "    <tr>\n",
       "      <th>age</th>\n",
       "      <td>1.000000</td>\n",
       "      <td>-0.020856</td>\n",
       "      <td>0.109272</td>\n",
       "      <td>0.042469</td>\n",
       "      <td>-0.025019</td>\n",
       "      <td>0.002127</td>\n",
       "      <td>0.299008</td>\n",
       "    </tr>\n",
       "    <tr>\n",
       "      <th>sex</th>\n",
       "      <td>-0.020856</td>\n",
       "      <td>1.000000</td>\n",
       "      <td>0.046371</td>\n",
       "      <td>0.017163</td>\n",
       "      <td>0.076185</td>\n",
       "      <td>0.004588</td>\n",
       "      <td>0.057292</td>\n",
       "    </tr>\n",
       "    <tr>\n",
       "      <th>bmi</th>\n",
       "      <td>0.109272</td>\n",
       "      <td>0.046371</td>\n",
       "      <td>1.000000</td>\n",
       "      <td>0.012759</td>\n",
       "      <td>0.003750</td>\n",
       "      <td>0.157566</td>\n",
       "      <td>0.198341</td>\n",
       "    </tr>\n",
       "    <tr>\n",
       "      <th>children</th>\n",
       "      <td>0.042469</td>\n",
       "      <td>0.017163</td>\n",
       "      <td>0.012759</td>\n",
       "      <td>1.000000</td>\n",
       "      <td>0.007673</td>\n",
       "      <td>0.016569</td>\n",
       "      <td>0.067998</td>\n",
       "    </tr>\n",
       "    <tr>\n",
       "      <th>smoker</th>\n",
       "      <td>-0.025019</td>\n",
       "      <td>0.076185</td>\n",
       "      <td>0.003750</td>\n",
       "      <td>0.007673</td>\n",
       "      <td>1.000000</td>\n",
       "      <td>-0.002181</td>\n",
       "      <td>0.787251</td>\n",
       "    </tr>\n",
       "    <tr>\n",
       "      <th>region</th>\n",
       "      <td>0.002127</td>\n",
       "      <td>0.004588</td>\n",
       "      <td>0.157566</td>\n",
       "      <td>0.016569</td>\n",
       "      <td>-0.002181</td>\n",
       "      <td>1.000000</td>\n",
       "      <td>-0.006208</td>\n",
       "    </tr>\n",
       "    <tr>\n",
       "      <th>charges</th>\n",
       "      <td>0.299008</td>\n",
       "      <td>0.057292</td>\n",
       "      <td>0.198341</td>\n",
       "      <td>0.067998</td>\n",
       "      <td>0.787251</td>\n",
       "      <td>-0.006208</td>\n",
       "      <td>1.000000</td>\n",
       "    </tr>\n",
       "  </tbody>\n",
       "</table>\n",
       "</div>"
      ],
      "text/plain": [
       "               age       sex       bmi  children    smoker    region   charges\n",
       "age       1.000000 -0.020856  0.109272  0.042469 -0.025019  0.002127  0.299008\n",
       "sex      -0.020856  1.000000  0.046371  0.017163  0.076185  0.004588  0.057292\n",
       "bmi       0.109272  0.046371  1.000000  0.012759  0.003750  0.157566  0.198341\n",
       "children  0.042469  0.017163  0.012759  1.000000  0.007673  0.016569  0.067998\n",
       "smoker   -0.025019  0.076185  0.003750  0.007673  1.000000 -0.002181  0.787251\n",
       "region    0.002127  0.004588  0.157566  0.016569 -0.002181  1.000000 -0.006208\n",
       "charges   0.299008  0.057292  0.198341  0.067998  0.787251 -0.006208  1.000000"
      ]
     },
     "execution_count": 20,
     "metadata": {},
     "output_type": "execute_result"
    }
   ],
   "source": [
    "b=df.corr()\n",
    "b"
   ]
  },
  {
   "cell_type": "code",
   "execution_count": 21,
   "metadata": {},
   "outputs": [
    {
     "data": {
      "text/html": [
       "<div>\n",
       "<style scoped>\n",
       "    .dataframe tbody tr th:only-of-type {\n",
       "        vertical-align: middle;\n",
       "    }\n",
       "\n",
       "    .dataframe tbody tr th {\n",
       "        vertical-align: top;\n",
       "    }\n",
       "\n",
       "    .dataframe thead th {\n",
       "        text-align: right;\n",
       "    }\n",
       "</style>\n",
       "<table border=\"1\" class=\"dataframe\">\n",
       "  <thead>\n",
       "    <tr style=\"text-align: right;\">\n",
       "      <th></th>\n",
       "      <th>charges</th>\n",
       "    </tr>\n",
       "  </thead>\n",
       "  <tbody>\n",
       "    <tr>\n",
       "      <th>age</th>\n",
       "      <td>0.299008</td>\n",
       "    </tr>\n",
       "    <tr>\n",
       "      <th>sex</th>\n",
       "      <td>0.057292</td>\n",
       "    </tr>\n",
       "    <tr>\n",
       "      <th>bmi</th>\n",
       "      <td>0.198341</td>\n",
       "    </tr>\n",
       "    <tr>\n",
       "      <th>children</th>\n",
       "      <td>0.067998</td>\n",
       "    </tr>\n",
       "    <tr>\n",
       "      <th>smoker</th>\n",
       "      <td>0.787251</td>\n",
       "    </tr>\n",
       "    <tr>\n",
       "      <th>region</th>\n",
       "      <td>-0.006208</td>\n",
       "    </tr>\n",
       "    <tr>\n",
       "      <th>charges</th>\n",
       "      <td>1.000000</td>\n",
       "    </tr>\n",
       "  </tbody>\n",
       "</table>\n",
       "</div>"
      ],
      "text/plain": [
       "           charges\n",
       "age       0.299008\n",
       "sex       0.057292\n",
       "bmi       0.198341\n",
       "children  0.067998\n",
       "smoker    0.787251\n",
       "region   -0.006208\n",
       "charges   1.000000"
      ]
     },
     "execution_count": 21,
     "metadata": {},
     "output_type": "execute_result"
    }
   ],
   "source": [
    "a1=b[['charges']]\n",
    "a1"
   ]
  },
  {
   "cell_type": "markdown",
   "metadata": {},
   "source": [
    "This heatmap shows the charges claim by smoker is maximum. And it shwos that the sex is not a factor regarding the charges. BMI shows that it is not a factor regarding to smoking."
   ]
  },
  {
   "cell_type": "markdown",
   "metadata": {},
   "source": [
    "Attributes sex and the children are at the leat side of the graph. It have the 0.5% and 0.6% respective affect on the insurance charges. \n",
    "\n",
    "The age and the bmi factor has 29 and 19 percentage claim on the charges, which is considered to be the moderate.\n"
   ]
  },
  {
   "cell_type": "code",
   "execution_count": 22,
   "metadata": {},
   "outputs": [
    {
     "data": {
      "image/png": "[encoded data removed]",
      "text/plain": [
       "<Figure size 1080x1080 with 2 Axes>"
      ]
     },
     "metadata": {
      "needs_background": "light"
     },
     "output_type": "display_data"
    }
   ],
   "source": [
    "plt.figure(figsize=(15,15))\n",
    "sns.heatmap(a1,vmax=+1,vmin=-1,fmt='g',cmap='RdYlGn',annot=True)\n",
    "plt.title('Insurance_Correlation',fontsize=20)\n",
    "plt.show()"
   ]
  },
  {
   "cell_type": "markdown",
   "metadata": {},
   "source": [
    "# Skewness"
   ]
  },
  {
   "cell_type": "markdown",
   "metadata": {},
   "source": [
    "Skewness shows where the feels the comfort most."
   ]
  },
  {
   "cell_type": "code",
   "execution_count": 24,
   "metadata": {},
   "outputs": [],
   "source": [
    "sk=df.skew()"
   ]
  },
  {
   "cell_type": "code",
   "execution_count": 25,
   "metadata": {},
   "outputs": [
    {
     "name": "stdout",
     "output_type": "stream",
     "text": [
      "age         0.055673\n",
      "sex        -0.020951\n",
      "bmi         0.284047\n",
      "children    0.938380\n",
      "smoker      1.464766\n",
      "region     -0.038101\n",
      "charges     1.515880\n",
      "dtype: float64\n"
     ]
    }
   ],
   "source": [
    "print(sk)"
   ]
  },
  {
   "cell_type": "markdown",
   "metadata": {},
   "source": [
    "Charges distplot shows the maximum values in between 0 to 1000"
   ]
  },
  {
   "cell_type": "markdown",
   "metadata": {},
   "source": [
    "Distplot shows the variation in the data distribution all below graphs shows thats if insides of the data gives the left peak with right tail then it shows us the mentioned data has positive values and if the insides has right peak with left tail then data has negative values as show."
   ]
  },
  {
   "cell_type": "code",
   "execution_count": 26,
   "metadata": {},
   "outputs": [
    {
     "data": {
      "image/png": "[encoded data removed]",
      "text/plain": [
       "<Figure size 1080x648 with 1 Axes>"
      ]
     },
     "metadata": {
      "needs_background": "light"
     },
     "output_type": "display_data"
    }
   ],
   "source": [
    "plt.figure(figsize=(15,9))\n",
    "sns.distplot(df['charges'])\n",
    "plt.title('Distplot',fontsize=20)\n",
    "plt.show()"
   ]
  },
  {
   "cell_type": "markdown",
   "metadata": {},
   "source": [
    "# Displot"
   ]
  },
  {
   "cell_type": "code",
   "execution_count": 27,
   "metadata": {
    "scrolled": true
   },
   "outputs": [
    {
     "data": {
      "text/plain": [
       "Text(0.5, 1.0, 'Displot')"
      ]
     },
     "execution_count": 27,
     "metadata": {},
     "output_type": "execute_result"
    },
    {
     "data": {
      "image/png": "[encoded data removed]",
      "text/plain": [
       "<Figure size 1080x648 with 1 Axes>"
      ]
     },
     "metadata": {
      "needs_background": "light"
     },
     "output_type": "display_data"
    }
   ],
   "source": [
    "plt.figure(figsize=(15,9))\n",
    "sns.distplot(df['charges'],kde=False)\n",
    "plt.title('Displot',fontsize=20)"
   ]
  },
  {
   "cell_type": "markdown",
   "metadata": {},
   "source": [
    "All columns Distplot are below"
   ]
  },
  {
   "cell_type": "markdown",
   "metadata": {},
   "source": [
    "This distplot show the maximum age lies between 20 to 60"
   ]
  },
  {
   "cell_type": "markdown",
   "metadata": {},
   "source": [
    "Peak of the graph is towards left, which shows a positive Skewness. The inclination of the data is more towards 20 to 25, i.e. data values or rows are more towards 20 to 25."
   ]
  },
  {
   "cell_type": "code",
   "execution_count": 28,
   "metadata": {},
   "outputs": [
    {
     "data": {
      "image/png": "[encoded data removed]",
      "text/plain": [
       "<Figure size 1080x648 with 1 Axes>"
      ]
     },
     "metadata": {
      "needs_background": "light"
     },
     "output_type": "display_data"
    }
   ],
   "source": [
    "plt.figure(figsize=(15,9))\n",
    "sns.distplot(df['age'])\n",
    "plt.title('Distplot',fontsize=20)\n",
    "plt.show()"
   ]
  },
  {
   "cell_type": "markdown",
   "metadata": {},
   "source": [
    "The peak of the graph is distributed on the right and left peak. But the data is now not normalized as it’s the slightly more towards the left side; which shows the positive values are more than the negative. "
   ]
  },
  {
   "cell_type": "code",
   "execution_count": 29,
   "metadata": {},
   "outputs": [
    {
     "data": {
      "image/png": "[encoded data removed]",
      "text/plain": [
       "<Figure size 1080x648 with 1 Axes>"
      ]
     },
     "metadata": {
      "needs_background": "light"
     },
     "output_type": "display_data"
    }
   ],
   "source": [
    "plt.figure(figsize=(15,9))\n",
    "sns.distplot(df['sex'])\n",
    "plt.title('Distplot',fontsize=20)\n",
    "plt.show()"
   ]
  },
  {
   "cell_type": "markdown",
   "metadata": {},
   "source": [
    "The Peak of the graph is left head and right tail which shows the positive data. The data/rows are more towards the 20 to 40."
   ]
  },
  {
   "cell_type": "code",
   "execution_count": 30,
   "metadata": {},
   "outputs": [
    {
     "data": {
      "image/png": "[encoded data removed]",
      "text/plain": [
       "<Figure size 1080x648 with 1 Axes>"
      ]
     },
     "metadata": {
      "needs_background": "light"
     },
     "output_type": "display_data"
    }
   ],
   "source": [
    "plt.figure(figsize=(15,9))\n",
    "sns.distplot(df['bmi'])\n",
    "plt.title('Distplot',fontsize=20)\n",
    "plt.show()"
   ]
  },
  {
   "cell_type": "markdown",
   "metadata": {},
   "source": [
    "The graph shows the peak as left head and right tail. The values are getting lesser as the age number of having child is more. The high values are with 0 numbers of children. "
   ]
  },
  {
   "cell_type": "code",
   "execution_count": 31,
   "metadata": {},
   "outputs": [
    {
     "data": {
      "image/png": "[encoded data removed]",
      "text/plain": [
       "<Figure size 1080x648 with 1 Axes>"
      ]
     },
     "metadata": {
      "needs_background": "light"
     },
     "output_type": "display_data"
    }
   ],
   "source": [
    "plt.figure(figsize=(15,9))\n",
    "sns.distplot(df['children'])\n",
    "plt.title('Distplot',fontsize=20)\n",
    "plt.show()"
   ]
  },
  {
   "cell_type": "markdown",
   "metadata": {},
   "source": [
    "The graph is representing the left peak on the high and right on the lower side. This is demonstrates the positive inclination. As the yes and no is represented in positive and negative numbers respectively. \n",
    "The non-smokers data is more than the smokers. \n",
    "\n"
   ]
  },
  {
   "cell_type": "code",
   "execution_count": 32,
   "metadata": {},
   "outputs": [
    {
     "data": {
      "image/png": "[encoded data removed]",
      "text/plain": [
       "<Figure size 1080x648 with 1 Axes>"
      ]
     },
     "metadata": {
      "needs_background": "light"
     },
     "output_type": "display_data"
    }
   ],
   "source": [
    "plt.figure(figsize=(15,9))\n",
    "sns.distplot(df['smoker'])\n",
    "plt.title('Distplot',fontsize=20)\n",
    "plt.show()"
   ]
  },
  {
   "cell_type": "code",
   "execution_count": 33,
   "metadata": {},
   "outputs": [
    {
     "data": {
      "image/png": "[encoded data removed]",
      "text/plain": [
       "<Figure size 1080x648 with 1 Axes>"
      ]
     },
     "metadata": {
      "needs_background": "light"
     },
     "output_type": "display_data"
    }
   ],
   "source": [
    "plt.figure(figsize=(15,9))\n",
    "sns.distplot(df['region'])\n",
    "plt.title('Distplot',fontsize=20)\n",
    "plt.show()"
   ]
  },
  {
   "cell_type": "markdown",
   "metadata": {},
   "source": [
    "# Boxplot"
   ]
  },
  {
   "cell_type": "markdown",
   "metadata": {},
   "source": [
    "Boxplot data shows the summery of data set of values having properties like minimum , maximum , first quartile and median."
   ]
  },
  {
   "cell_type": "markdown",
   "metadata": {},
   "source": [
    "In this charges boxplot there are so many outliers it affect the data."
   ]
  },
  {
   "cell_type": "code",
   "execution_count": 34,
   "metadata": {},
   "outputs": [
    {
     "data": {
      "text/plain": [
       "<matplotlib.axes._subplots.AxesSubplot at 0x2493902cd30>"
      ]
     },
     "execution_count": 34,
     "metadata": {},
     "output_type": "execute_result"
    },
    {
     "data": {
      "image/png": "[encoded data removed]",
      "text/plain": [
       "<Figure size 432x288 with 1 Axes>"
      ]
     },
     "metadata": {
      "needs_background": "light"
     },
     "output_type": "display_data"
    }
   ],
   "source": [
    "sns.boxplot(df.charges)"
   ]
  },
  {
   "cell_type": "markdown",
   "metadata": {},
   "source": [
    "The box plot represents the data of the age attribute. The age of values starts from 19 and goes above 60. 25 to 75% of the data/rows lies between the 25 to 52(approx) age. "
   ]
  },
  {
   "cell_type": "code",
   "execution_count": 35,
   "metadata": {},
   "outputs": [
    {
     "data": {
      "text/plain": [
       "<matplotlib.axes._subplots.AxesSubplot at 0x2493915d940>"
      ]
     },
     "execution_count": 35,
     "metadata": {},
     "output_type": "execute_result"
    },
    {
     "data": {
      "image/png": "[encoded data removed]",
      "text/plain": [
       "<Figure size 432x288 with 1 Axes>"
      ]
     },
     "metadata": {
      "needs_background": "light"
     },
     "output_type": "display_data"
    }
   ],
   "source": [
    "sns.boxplot(df.age)"
   ]
  },
  {
   "cell_type": "code",
   "execution_count": 36,
   "metadata": {},
   "outputs": [
    {
     "data": {
      "text/plain": [
       "<matplotlib.axes._subplots.AxesSubplot at 0x249391bf400>"
      ]
     },
     "execution_count": 36,
     "metadata": {},
     "output_type": "execute_result"
    },
    {
     "data": {
      "image/png": "[encoded data removed]",
      "text/plain": [
       "<Figure size 432x288 with 1 Axes>"
      ]
     },
     "metadata": {
      "needs_background": "light"
     },
     "output_type": "display_data"
    }
   ],
   "source": [
    "sns.boxplot(df.sex)"
   ]
  },
  {
   "cell_type": "markdown",
   "metadata": {},
   "source": [
    "The plots shows the values available in the tables are between 15 and above 50. 25 to 75 percent of the data lies between the 25 and 35 bmi. On top of there are instances of outlies found in the data which are displayed outside of the boxplot presentation"
   ]
  },
  {
   "cell_type": "code",
   "execution_count": 37,
   "metadata": {},
   "outputs": [
    {
     "data": {
      "text/plain": [
       "<matplotlib.axes._subplots.AxesSubplot at 0x24939224748>"
      ]
     },
     "execution_count": 37,
     "metadata": {},
     "output_type": "execute_result"
    },
    {
     "data": {
      "image/png": "[encoded data removed]",
      "text/plain": [
       "<Figure size 432x288 with 1 Axes>"
      ]
     },
     "metadata": {
      "needs_background": "light"
     },
     "output_type": "display_data"
    }
   ],
   "source": [
    "sns.boxplot(df.bmi)"
   ]
  },
  {
   "cell_type": "markdown",
   "metadata": {},
   "source": [
    "The attribute children has the major numbers between the 0 and 2. 50 persent of the data is at the value and the 75 percent is at the 2."
   ]
  },
  {
   "cell_type": "code",
   "execution_count": 38,
   "metadata": {},
   "outputs": [
    {
     "data": {
      "text/plain": [
       "<matplotlib.axes._subplots.AxesSubplot at 0x24939282a90>"
      ]
     },
     "execution_count": 38,
     "metadata": {},
     "output_type": "execute_result"
    },
    {
     "data": {
      "image/png": "[encoded data removed]",
      "text/plain": [
       "<Figure size 432x288 with 1 Axes>"
      ]
     },
     "metadata": {
      "needs_background": "light"
     },
     "output_type": "display_data"
    }
   ],
   "source": [
    "sns.boxplot(df.children)"
   ]
  },
  {
   "cell_type": "code",
   "execution_count": 39,
   "metadata": {},
   "outputs": [
    {
     "data": {
      "text/plain": [
       "<matplotlib.axes._subplots.AxesSubplot at 0x249392e4e10>"
      ]
     },
     "execution_count": 39,
     "metadata": {},
     "output_type": "execute_result"
    },
    {
     "data": {
      "image/png": "[encoded data removed]",
      "text/plain": [
       "<Figure size 432x288 with 1 Axes>"
      ]
     },
     "metadata": {
      "needs_background": "light"
     },
     "output_type": "display_data"
    }
   ],
   "source": [
    "sns.boxplot(df.smoker)"
   ]
  },
  {
   "cell_type": "code",
   "execution_count": 40,
   "metadata": {},
   "outputs": [
    {
     "data": {
      "text/plain": [
       "<matplotlib.axes._subplots.AxesSubplot at 0x2493934f6d8>"
      ]
     },
     "execution_count": 40,
     "metadata": {},
     "output_type": "execute_result"
    },
    {
     "data": {
      "image/png": "[encoded data removed]",
      "text/plain": [
       "<Figure size 432x288 with 1 Axes>"
      ]
     },
     "metadata": {
      "needs_background": "light"
     },
     "output_type": "display_data"
    }
   ],
   "source": [
    "sns.boxplot(df.region)"
   ]
  },
  {
   "cell_type": "code",
   "execution_count": null,
   "metadata": {},
   "outputs": [],
   "source": []
  },
  {
   "cell_type": "markdown",
   "metadata": {},
   "source": [
    "# Linear Regression"
   ]
  },
  {
   "cell_type": "code",
   "execution_count": 41,
   "metadata": {},
   "outputs": [
    {
     "data": {
      "text/plain": [
       "Index(['age', 'sex', 'bmi', 'children', 'smoker', 'region', 'charges'], dtype='object')"
      ]
     },
     "execution_count": 41,
     "metadata": {},
     "output_type": "execute_result"
    }
   ],
   "source": [
    "df.columns"
   ]
  },
  {
   "cell_type": "markdown",
   "metadata": {},
   "source": [
    "Assiend the independent columns in x variable"
   ]
  },
  {
   "cell_type": "code",
   "execution_count": 42,
   "metadata": {},
   "outputs": [],
   "source": [
    "x=df[['age', 'sex', 'bmi', 'children', 'smoker', 'region']]"
   ]
  },
  {
   "cell_type": "code",
   "execution_count": 43,
   "metadata": {},
   "outputs": [
    {
     "data": {
      "text/html": [
       "<div>\n",
       "<style scoped>\n",
       "    .dataframe tbody tr th:only-of-type {\n",
       "        vertical-align: middle;\n",
       "    }\n",
       "\n",
       "    .dataframe tbody tr th {\n",
       "        vertical-align: top;\n",
       "    }\n",
       "\n",
       "    .dataframe thead th {\n",
       "        text-align: right;\n",
       "    }\n",
       "</style>\n",
       "<table border=\"1\" class=\"dataframe\">\n",
       "  <thead>\n",
       "    <tr style=\"text-align: right;\">\n",
       "      <th></th>\n",
       "      <th>age</th>\n",
       "      <th>sex</th>\n",
       "      <th>bmi</th>\n",
       "      <th>children</th>\n",
       "      <th>smoker</th>\n",
       "      <th>region</th>\n",
       "    </tr>\n",
       "  </thead>\n",
       "  <tbody>\n",
       "    <tr>\n",
       "      <th>0</th>\n",
       "      <td>19</td>\n",
       "      <td>0</td>\n",
       "      <td>27.900</td>\n",
       "      <td>0</td>\n",
       "      <td>1</td>\n",
       "      <td>3</td>\n",
       "    </tr>\n",
       "    <tr>\n",
       "      <th>1</th>\n",
       "      <td>18</td>\n",
       "      <td>1</td>\n",
       "      <td>33.770</td>\n",
       "      <td>1</td>\n",
       "      <td>0</td>\n",
       "      <td>2</td>\n",
       "    </tr>\n",
       "    <tr>\n",
       "      <th>2</th>\n",
       "      <td>28</td>\n",
       "      <td>1</td>\n",
       "      <td>33.000</td>\n",
       "      <td>3</td>\n",
       "      <td>0</td>\n",
       "      <td>2</td>\n",
       "    </tr>\n",
       "    <tr>\n",
       "      <th>3</th>\n",
       "      <td>33</td>\n",
       "      <td>1</td>\n",
       "      <td>22.705</td>\n",
       "      <td>0</td>\n",
       "      <td>0</td>\n",
       "      <td>1</td>\n",
       "    </tr>\n",
       "    <tr>\n",
       "      <th>4</th>\n",
       "      <td>32</td>\n",
       "      <td>1</td>\n",
       "      <td>28.880</td>\n",
       "      <td>0</td>\n",
       "      <td>0</td>\n",
       "      <td>1</td>\n",
       "    </tr>\n",
       "  </tbody>\n",
       "</table>\n",
       "</div>"
      ],
      "text/plain": [
       "   age  sex     bmi  children  smoker  region\n",
       "0   19    0  27.900         0       1       3\n",
       "1   18    1  33.770         1       0       2\n",
       "2   28    1  33.000         3       0       2\n",
       "3   33    1  22.705         0       0       1\n",
       "4   32    1  28.880         0       0       1"
      ]
     },
     "execution_count": 43,
     "metadata": {},
     "output_type": "execute_result"
    }
   ],
   "source": [
    "x.head()"
   ]
  },
  {
   "cell_type": "markdown",
   "metadata": {},
   "source": [
    "Assined the dependent columns in y variable."
   ]
  },
  {
   "cell_type": "code",
   "execution_count": 44,
   "metadata": {},
   "outputs": [],
   "source": [
    "y=df[['charges']]"
   ]
  },
  {
   "cell_type": "markdown",
   "metadata": {},
   "source": [
    "Import Train test split. By this we train 70% of data and then test it with 30% of remaining data."
   ]
  },
  {
   "cell_type": "code",
   "execution_count": 45,
   "metadata": {},
   "outputs": [],
   "source": [
    "from sklearn.model_selection import train_test_split"
   ]
  },
  {
   "cell_type": "code",
   "execution_count": 46,
   "metadata": {},
   "outputs": [],
   "source": [
    "x_train, x_test, y_train, y_test=train_test_split(x,y,test_size=0.3,train_size=0.7,random_state=1)"
   ]
  },
  {
   "cell_type": "markdown",
   "metadata": {},
   "source": [
    "Importing linear regression librery from sklearn"
   ]
  },
  {
   "cell_type": "code",
   "execution_count": 47,
   "metadata": {},
   "outputs": [],
   "source": [
    "from sklearn.linear_model import LinearRegression"
   ]
  },
  {
   "cell_type": "code",
   "execution_count": 48,
   "metadata": {},
   "outputs": [],
   "source": [
    "model=LinearRegression()"
   ]
  },
  {
   "cell_type": "markdown",
   "metadata": {},
   "source": [
    "Linear regression is the approximation of a linear model used to describe the relationship between two or more variables. We can use linear regression to predict a continuous value, by using other variables. In simple linear regression, there are two variables: a dependent variable and an independent variable. "
   ]
  },
  {
   "cell_type": "code",
   "execution_count": 49,
   "metadata": {},
   "outputs": [
    {
     "data": {
      "text/plain": [
       "LinearRegression(copy_X=True, fit_intercept=True, n_jobs=None, normalize=False)"
      ]
     },
     "execution_count": 49,
     "metadata": {},
     "output_type": "execute_result"
    }
   ],
   "source": [
    "model.fit(x_train,y_train)"
   ]
  },
  {
   "cell_type": "code",
   "execution_count": 50,
   "metadata": {},
   "outputs": [
    {
     "data": {
      "text/plain": [
       "(402, 6)"
      ]
     },
     "execution_count": 50,
     "metadata": {},
     "output_type": "execute_result"
    }
   ],
   "source": [
    "x_test.shape"
   ]
  },
  {
   "cell_type": "code",
   "execution_count": 51,
   "metadata": {},
   "outputs": [
    {
     "data": {
      "text/plain": [
       "(936, 6)"
      ]
     },
     "execution_count": 51,
     "metadata": {},
     "output_type": "execute_result"
    }
   ],
   "source": [
    "x_train.shape"
   ]
  },
  {
   "cell_type": "code",
   "execution_count": 52,
   "metadata": {},
   "outputs": [
    {
     "data": {
      "text/plain": [
       "(402, 1)"
      ]
     },
     "execution_count": 52,
     "metadata": {},
     "output_type": "execute_result"
    }
   ],
   "source": [
    "y_test.shape"
   ]
  },
  {
   "cell_type": "code",
   "execution_count": 53,
   "metadata": {},
   "outputs": [
    {
     "data": {
      "text/plain": [
       "(936, 1)"
      ]
     },
     "execution_count": 53,
     "metadata": {},
     "output_type": "execute_result"
    }
   ],
   "source": [
    "y_train.shape"
   ]
  },
  {
   "cell_type": "markdown",
   "metadata": {},
   "source": [
    "Regarding to this we train the data and test the data and then we predict what is prediction regarding to charges."
   ]
  },
  {
   "cell_type": "code",
   "execution_count": 54,
   "metadata": {},
   "outputs": [],
   "source": [
    "y_pred=model.predict(x_test)"
   ]
  },
  {
   "cell_type": "code",
   "execution_count": 55,
   "metadata": {},
   "outputs": [
    {
     "data": {
      "text/plain": [
       "array([[ 4.50048433e+03],\n",
       "       [ 1.28194579e+04],\n",
       "       [ 1.23977127e+04],\n",
       "       [ 1.34303433e+04],\n",
       "       [ 5.31776110e+02],\n",
       "       [ 3.22642696e+04],\n",
       "       [ 1.30762461e+04],\n",
       "       [ 1.22348298e+04],\n",
       "       [ 3.82932402e+03],\n",
       "       [ 3.01565286e+04],\n",
       "       [ 1.13198257e+04],\n",
       "       [ 1.72084618e+04],\n",
       "       [ 8.91832075e+03],\n",
       "       [ 8.22883518e+03],\n",
       "       [ 3.58166904e+03],\n",
       "       [ 1.01918742e+04],\n",
       "       [ 3.97134424e+03],\n",
       "       [ 6.75521017e+03],\n",
       "       [ 1.52141457e+04],\n",
       "       [ 1.42498228e+04],\n",
       "       [ 1.24184207e+04],\n",
       "       [ 3.34497470e+04],\n",
       "       [ 9.12417099e+03],\n",
       "       [ 8.85380484e+03],\n",
       "       [ 3.13406481e+03],\n",
       "       [ 8.14417612e+03],\n",
       "       [ 9.33914668e+03],\n",
       "       [ 1.10793027e+04],\n",
       "       [ 7.54531559e+03],\n",
       "       [ 4.40537383e+03],\n",
       "       [ 1.39112972e+04],\n",
       "       [ 5.64886526e+03],\n",
       "       [ 3.46827850e+04],\n",
       "       [ 2.74022377e+04],\n",
       "       [ 3.38105315e+04],\n",
       "       [ 9.52560370e+03],\n",
       "       [ 3.06087668e+04],\n",
       "       [ 2.67066855e+04],\n",
       "       [ 1.54113111e+04],\n",
       "       [ 3.41398489e+04],\n",
       "       [ 6.63468968e+03],\n",
       "       [ 1.39736793e+04],\n",
       "       [ 1.08971678e+04],\n",
       "       [ 1.47980620e+04],\n",
       "       [ 4.09741953e+03],\n",
       "       [ 1.29622798e+04],\n",
       "       [ 4.71597335e+03],\n",
       "       [ 2.92771692e+04],\n",
       "       [ 7.31791501e+03],\n",
       "       [ 1.39529721e+04],\n",
       "       [ 1.35190763e+04],\n",
       "       [ 1.20798653e+04],\n",
       "       [ 2.00264361e+03],\n",
       "       [ 8.64372471e+03],\n",
       "       [ 2.63767332e+04],\n",
       "       [ 1.04916779e+04],\n",
       "       [ 3.46735735e+04],\n",
       "       [ 1.43468920e+04],\n",
       "       [ 3.23348994e+03],\n",
       "       [ 6.29736567e+03],\n",
       "       [ 6.98470140e+03],\n",
       "       [ 1.47780171e+04],\n",
       "       [ 2.76393453e+04],\n",
       "       [ 3.44489525e+03],\n",
       "       [ 1.56083432e+04],\n",
       "       [ 1.11420819e+04],\n",
       "       [ 1.09545431e+04],\n",
       "       [ 1.07407418e+04],\n",
       "       [ 1.67519076e+03],\n",
       "       [ 2.56544038e+04],\n",
       "       [ 3.75895810e+04],\n",
       "       [ 3.33336941e+04],\n",
       "       [ 2.04616985e+03],\n",
       "       [ 1.12035200e+04],\n",
       "       [ 1.35991275e+04],\n",
       "       [ 3.50861055e+04],\n",
       "       [ 3.27463889e+03],\n",
       "       [ 4.30118673e+03],\n",
       "       [ 1.02364297e+04],\n",
       "       [ 1.03546112e+04],\n",
       "       [ 3.23442584e+01],\n",
       "       [ 1.39306887e+04],\n",
       "       [ 1.03085784e+04],\n",
       "       [ 3.15238012e+03],\n",
       "       [ 3.36380576e+04],\n",
       "       [ 3.36105256e+04],\n",
       "       [ 7.05773057e+03],\n",
       "       [ 3.81603776e+04],\n",
       "       [ 1.26761191e+04],\n",
       "       [ 1.02501825e+04],\n",
       "       [ 3.04850509e+04],\n",
       "       [ 3.40650631e+04],\n",
       "       [ 1.48087422e+04],\n",
       "       [ 1.10825989e+04],\n",
       "       [ 4.11113654e+02],\n",
       "       [ 1.08403252e+04],\n",
       "       [ 9.48537761e+03],\n",
       "       [ 1.51224946e+04],\n",
       "       [ 1.49163628e+04],\n",
       "       [ 6.01879160e+03],\n",
       "       [ 1.36012493e+04],\n",
       "       [ 2.64495142e+04],\n",
       "       [ 2.82131435e+04],\n",
       "       [ 2.76768110e+04],\n",
       "       [ 3.58853823e+04],\n",
       "       [ 2.75494048e+04],\n",
       "       [ 7.16807865e+02],\n",
       "       [ 9.08394845e+03],\n",
       "       [ 5.11953142e+03],\n",
       "       [ 1.23735711e+04],\n",
       "       [ 5.77349317e+03],\n",
       "       [ 5.15551541e+03],\n",
       "       [ 1.22297401e+03],\n",
       "       [ 1.84838688e+04],\n",
       "       [ 3.34637988e+03],\n",
       "       [ 1.70169924e+03],\n",
       "       [ 1.13254257e+04],\n",
       "       [ 1.25688666e+04],\n",
       "       [ 1.15823312e+04],\n",
       "       [ 3.89118812e+03],\n",
       "       [ 8.81845774e+03],\n",
       "       [ 1.35673757e+04],\n",
       "       [ 8.07362214e+03],\n",
       "       [ 6.48417375e+03],\n",
       "       [ 3.70752342e+04],\n",
       "       [ 1.18410472e+04],\n",
       "       [ 1.20147203e+04],\n",
       "       [ 2.97987404e+04],\n",
       "       [ 3.65419368e+04],\n",
       "       [ 1.13672084e+04],\n",
       "       [ 2.88098059e+04],\n",
       "       [-4.15653363e+02],\n",
       "       [ 8.15842431e+03],\n",
       "       [ 3.21776188e+04],\n",
       "       [ 8.16170197e+03],\n",
       "       [-5.80902643e+02],\n",
       "       [ 1.34324962e+03],\n",
       "       [ 5.08141852e+03],\n",
       "       [ 7.66027613e+03],\n",
       "       [ 1.25281594e+04],\n",
       "       [ 1.47400300e+04],\n",
       "       [ 8.88786485e+03],\n",
       "       [ 2.94736565e+04],\n",
       "       [ 1.59493721e+04],\n",
       "       [ 1.44644063e+04],\n",
       "       [ 1.10823241e+04],\n",
       "       [ 2.33156688e+03],\n",
       "       [ 9.81905892e+03],\n",
       "       [ 4.17684792e+03],\n",
       "       [ 6.17453686e+03],\n",
       "       [ 1.16380947e+04],\n",
       "       [ 5.49511399e+03],\n",
       "       [ 1.44371194e+04],\n",
       "       [ 1.35368940e+04],\n",
       "       [ 1.29567656e+04],\n",
       "       [ 6.93152402e+03],\n",
       "       [ 1.22170398e+04],\n",
       "       [ 1.07737325e+04],\n",
       "       [ 1.01781613e+04],\n",
       "       [ 4.51445098e+03],\n",
       "       [ 6.04095345e+03],\n",
       "       [ 4.07288508e+04],\n",
       "       [ 1.32533421e+04],\n",
       "       [ 4.22971178e+03],\n",
       "       [ 8.36232425e+03],\n",
       "       [ 5.10409797e+03],\n",
       "       [ 3.27599989e+04],\n",
       "       [ 1.10368233e+04],\n",
       "       [ 1.08378078e+04],\n",
       "       [ 6.92112157e+03],\n",
       "       [ 6.31196543e+03],\n",
       "       [ 6.81049043e+03],\n",
       "       [ 3.32617638e+04],\n",
       "       [ 3.51535872e+04],\n",
       "       [ 2.34868974e+03],\n",
       "       [ 7.62654838e+03],\n",
       "       [ 5.11912530e+03],\n",
       "       [ 1.52484366e+04],\n",
       "       [ 1.59630710e+03],\n",
       "       [ 1.16725331e+04],\n",
       "       [ 1.32930377e+04],\n",
       "       [ 1.14208476e+04],\n",
       "       [ 1.05722190e+04],\n",
       "       [ 1.30853635e+04],\n",
       "       [ 2.52660136e+03],\n",
       "       [ 2.82242325e+04],\n",
       "       [ 2.85209017e+03],\n",
       "       [ 1.49736227e+04],\n",
       "       [ 6.34728446e+03],\n",
       "       [ 1.02594165e+04],\n",
       "       [ 1.47715517e+04],\n",
       "       [ 3.92349293e+04],\n",
       "       [ 2.10047962e+03],\n",
       "       [ 1.64512186e+03],\n",
       "       [ 5.19386628e+03],\n",
       "       [ 7.48803836e+03],\n",
       "       [ 8.10145151e+03],\n",
       "       [ 4.66137638e+03],\n",
       "       [ 1.04572138e+04],\n",
       "       [ 9.25525843e+03],\n",
       "       [ 9.66304965e+03],\n",
       "       [ 1.08919128e+04],\n",
       "       [ 1.00585245e+04],\n",
       "       [ 9.47538672e+03],\n",
       "       [ 8.00979553e+03],\n",
       "       [ 1.42567306e+03],\n",
       "       [ 1.00146505e+04],\n",
       "       [ 7.65475821e+03],\n",
       "       [ 6.63471628e+03],\n",
       "       [ 1.15647343e+04],\n",
       "       [ 5.46833294e+03],\n",
       "       [ 3.34283297e+04],\n",
       "       [ 6.88422300e+03],\n",
       "       [ 6.19170393e+03],\n",
       "       [ 7.73997747e+03],\n",
       "       [ 3.89000503e+04],\n",
       "       [ 1.18217834e+04],\n",
       "       [ 2.88908982e+04],\n",
       "       [ 3.33795268e+03],\n",
       "       [ 3.32276282e+04],\n",
       "       [ 3.78871813e+03],\n",
       "       [ 3.21690003e+04],\n",
       "       [ 1.36901375e+04],\n",
       "       [ 2.62854390e+03],\n",
       "       [ 2.06490326e+03],\n",
       "       [ 1.28494305e+03],\n",
       "       [ 6.22545624e+03],\n",
       "       [ 4.47910388e+03],\n",
       "       [ 2.59006327e+04],\n",
       "       [ 1.59757507e+04],\n",
       "       [ 5.38750778e+03],\n",
       "       [ 1.31665575e+04],\n",
       "       [ 3.93309412e+04],\n",
       "       [ 4.70486131e+03],\n",
       "       [ 1.25236527e+04],\n",
       "       [ 1.11590756e+04],\n",
       "       [ 2.80523844e+04],\n",
       "       [ 2.93690142e+03],\n",
       "       [ 1.32114354e+04],\n",
       "       [ 6.07062830e+03],\n",
       "       [ 1.53887875e+04],\n",
       "       [ 6.22086459e+03],\n",
       "       [ 1.67152132e+04],\n",
       "       [ 4.32862976e+03],\n",
       "       [ 1.24587660e+04],\n",
       "       [ 3.46907032e+04],\n",
       "       [ 1.08669872e+04],\n",
       "       [ 1.04391515e+04],\n",
       "       [ 5.28304759e+03],\n",
       "       [ 1.65991552e+04],\n",
       "       [ 1.43077423e+04],\n",
       "       [ 5.46002427e+03],\n",
       "       [ 1.14216409e+04],\n",
       "       [ 1.26089857e+04],\n",
       "       [ 4.65965009e+03],\n",
       "       [ 7.20971044e+03],\n",
       "       [ 2.79797493e+04],\n",
       "       [ 3.24458490e+04],\n",
       "       [-2.80471092e+02],\n",
       "       [ 4.03570860e+04],\n",
       "       [ 9.65947810e+03],\n",
       "       [ 7.73481469e+03],\n",
       "       [ 1.09612730e+04],\n",
       "       [ 3.35810815e+04],\n",
       "       [ 3.62123643e+04],\n",
       "       [ 3.70689251e+04],\n",
       "       [ 5.11240991e+03],\n",
       "       [ 6.15779583e+03],\n",
       "       [ 1.05284250e+04],\n",
       "       [ 8.31585383e+03],\n",
       "       [ 4.48690125e+03],\n",
       "       [ 1.14816455e+04],\n",
       "       [ 1.01917501e+04],\n",
       "       [ 9.89265019e+03],\n",
       "       [ 9.47630921e+03],\n",
       "       [ 3.99730528e+04],\n",
       "       [ 8.25654918e+03],\n",
       "       [ 4.74205565e+03],\n",
       "       [ 2.65407871e+04],\n",
       "       [ 2.81756850e+04],\n",
       "       [ 1.35353301e+03],\n",
       "       [ 1.19658133e+04],\n",
       "       [ 6.17771436e+03],\n",
       "       [ 4.11182748e+03],\n",
       "       [ 1.05101044e+04],\n",
       "       [ 1.14204713e+04],\n",
       "       [ 1.52112466e+04],\n",
       "       [ 1.14688853e+04],\n",
       "       [ 4.00221695e+03],\n",
       "       [ 7.58593194e+03],\n",
       "       [ 1.16301521e+04],\n",
       "       [ 1.27710403e+04],\n",
       "       [ 1.70956860e+04],\n",
       "       [ 1.09689110e+04],\n",
       "       [ 5.89828194e+03],\n",
       "       [ 3.21414593e+04],\n",
       "       [ 1.00577687e+04],\n",
       "       [ 6.40680559e+03],\n",
       "       [ 2.79432251e+03],\n",
       "       [ 7.55954806e+03],\n",
       "       [ 7.02648877e+03],\n",
       "       [ 6.98769775e+03],\n",
       "       [ 6.23852120e+03],\n",
       "       [ 8.98952800e+03],\n",
       "       [ 6.92364060e+03],\n",
       "       [ 3.11259948e+04],\n",
       "       [ 6.00124889e+03],\n",
       "       [ 4.58050890e+03],\n",
       "       [ 2.22382073e+03],\n",
       "       [ 4.38926402e+03],\n",
       "       [ 8.54010147e+03],\n",
       "       [ 2.91843571e+03],\n",
       "       [ 2.75617659e+04],\n",
       "       [ 6.97732781e+03],\n",
       "       [ 6.62333355e+03],\n",
       "       [ 1.48844331e+04],\n",
       "       [ 9.99600602e+03],\n",
       "       [ 1.14120420e+04],\n",
       "       [ 1.40588565e+04],\n",
       "       [ 1.53041139e+04],\n",
       "       [ 1.47928083e+04],\n",
       "       [ 2.35408921e+04],\n",
       "       [ 5.45606625e+03],\n",
       "       [ 9.76618110e+03],\n",
       "       [ 1.04545622e+04],\n",
       "       [ 9.86591335e+03],\n",
       "       [ 1.31258079e+04],\n",
       "       [ 6.83776139e+03],\n",
       "       [ 3.67185407e+03],\n",
       "       [ 3.31306888e+04],\n",
       "       [ 1.42933572e+04],\n",
       "       [ 1.44793083e+04],\n",
       "       [ 1.19478658e+04],\n",
       "       [ 3.47061905e+03],\n",
       "       [ 9.99156113e+03],\n",
       "       [ 3.33436375e+03],\n",
       "       [ 2.92911590e+03],\n",
       "       [ 1.12265014e+04],\n",
       "       [ 1.57392885e+04],\n",
       "       [ 1.32793127e+04],\n",
       "       [ 3.54955845e+04],\n",
       "       [ 3.69917151e+03],\n",
       "       [ 3.41948541e+04],\n",
       "       [ 2.58713131e+03],\n",
       "       [ 9.05071942e+03],\n",
       "       [ 2.97458804e+04],\n",
       "       [ 5.69437306e+03],\n",
       "       [ 2.03601759e+03],\n",
       "       [ 7.35846518e+03],\n",
       "       [ 1.37191495e+04],\n",
       "       [ 6.12611593e+02],\n",
       "       [ 6.32136842e+03],\n",
       "       [ 9.18785700e+03],\n",
       "       [ 3.79364473e+04],\n",
       "       [ 2.58894283e+04],\n",
       "       [ 9.72820070e+03],\n",
       "       [ 1.19307132e+04],\n",
       "       [ 3.77736622e+04],\n",
       "       [ 1.49937951e+04],\n",
       "       [ 3.48762300e+03],\n",
       "       [ 5.61617566e+03],\n",
       "       [ 9.14025193e+03],\n",
       "       [ 1.65803357e+04],\n",
       "       [ 9.96873302e+03],\n",
       "       [ 7.69921929e+03],\n",
       "       [ 1.03947201e+04],\n",
       "       [ 3.08040867e+04],\n",
       "       [ 3.18046316e+04],\n",
       "       [ 6.75850484e+03],\n",
       "       [ 3.20223602e+04],\n",
       "       [ 3.42800259e+04],\n",
       "       [ 1.46353372e+04],\n",
       "       [ 9.10268740e+03],\n",
       "       [ 1.03310077e+04],\n",
       "       [ 5.46633327e+03],\n",
       "       [ 1.20971614e+04],\n",
       "       [ 1.47335647e+04],\n",
       "       [ 4.23288914e+03],\n",
       "       [ 1.32568189e+04],\n",
       "       [ 1.29992112e+04],\n",
       "       [ 1.03298417e+04],\n",
       "       [ 2.80075354e+04],\n",
       "       [ 2.70820274e+04],\n",
       "       [ 3.31135583e+04],\n",
       "       [ 1.25252514e+04],\n",
       "       [ 1.48915770e+04],\n",
       "       [ 1.69449512e+04],\n",
       "       [ 4.29630585e+03],\n",
       "       [ 9.70262985e+03],\n",
       "       [ 9.19416992e+03],\n",
       "       [ 3.21648201e+04],\n",
       "       [ 3.89685068e+04],\n",
       "       [ 1.12870257e+04],\n",
       "       [ 3.58122304e+04],\n",
       "       [ 2.77084624e+04],\n",
       "       [ 3.23002452e+04],\n",
       "       [ 9.08157589e+03],\n",
       "       [ 1.61147738e+04],\n",
       "       [ 3.69098919e+03],\n",
       "       [ 3.21740900e+03],\n",
       "       [ 2.73105622e+04],\n",
       "       [ 9.39253798e+03]])"
      ]
     },
     "execution_count": 55,
     "metadata": {},
     "output_type": "execute_result"
    }
   ],
   "source": [
    "y_pred"
   ]
  },
  {
   "cell_type": "code",
   "execution_count": 56,
   "metadata": {},
   "outputs": [
    {
     "data": {
      "text/plain": [
       "74.0367716897532"
      ]
     },
     "execution_count": 56,
     "metadata": {},
     "output_type": "execute_result"
    }
   ],
   "source": [
    "model.score(x_test,y_test)*100"
   ]
  },
  {
   "cell_type": "markdown",
   "metadata": {},
   "source": [
    "# R2 score"
   ]
  },
  {
   "cell_type": "markdown",
   "metadata": {},
   "source": [
    "It shows how well the regression model fits the observed data."
   ]
  },
  {
   "cell_type": "code",
   "execution_count": 57,
   "metadata": {},
   "outputs": [],
   "source": [
    "from sklearn.metrics import r2_score"
   ]
  },
  {
   "cell_type": "code",
   "execution_count": 58,
   "metadata": {},
   "outputs": [
    {
     "data": {
      "text/plain": [
       "74.0367716897532"
      ]
     },
     "execution_count": 58,
     "metadata": {},
     "output_type": "execute_result"
    }
   ],
   "source": [
    "r2_score(y_test,y_pred)*100"
   ]
  },
  {
   "cell_type": "markdown",
   "metadata": {},
   "source": [
    "# Adjusted r2 score"
   ]
  },
  {
   "cell_type": "markdown",
   "metadata": {},
   "source": [
    "The adjusted R-squared adjusts for the number of terms in the model. Importantly, its value increases only when the new term improves the model fit more than expected by chance alone. The adjusted R-squared value actually decreases when the term doesn’t improve the model fit by a sufficient amount.\n",
    "\n"
   ]
  },
  {
   "cell_type": "code",
   "execution_count": 59,
   "metadata": {},
   "outputs": [
    {
     "data": {
      "text/plain": [
       "0.7398117591178693"
      ]
     },
     "execution_count": 59,
     "metadata": {},
     "output_type": "execute_result"
    }
   ],
   "source": [
    "adj_r2_score = 1-(1-model.score(x_test,y_test))*len((y_train)-1)/(len(y_train)-y_test.shape[1]-1)\n",
    "adj_r2_score"
   ]
  },
  {
   "cell_type": "markdown",
   "metadata": {},
   "source": [
    "# Mean squared error"
   ]
  },
  {
   "cell_type": "markdown",
   "metadata": {},
   "source": [
    "The mean squared error (MSE) tells us how close a regression line is to a set of points. It does this by taking the distances from the points to the regression line (these distances are the “errors”)."
   ]
  },
  {
   "cell_type": "code",
   "execution_count": 61,
   "metadata": {},
   "outputs": [],
   "source": [
    "from sklearn.metrics import mean_squared_error"
   ]
  },
  {
   "cell_type": "code",
   "execution_count": 62,
   "metadata": {},
   "outputs": [
    {
     "data": {
      "text/plain": [
       "36794223.343517"
      ]
     },
     "execution_count": 62,
     "metadata": {},
     "output_type": "execute_result"
    }
   ],
   "source": [
    "mean_squared_error(y_test,y_pred)"
   ]
  },
  {
   "cell_type": "code",
   "execution_count": null,
   "metadata": {},
   "outputs": [],
   "source": []
  },
  {
   "cell_type": "code",
   "execution_count": null,
   "metadata": {},
   "outputs": [],
   "source": []
  }
 ],
 "metadata": {
  "kernelspec": {
   "display_name": "Python 3",
   "language": "python",
   "name": "python3"
  },
  "language_info": {
   "codemirror_mode": {
    "name": "ipython",
    "version": 3
   },
   "file_extension": ".py",
   "mimetype": "text/x-python",
   "name": "python",
   "nbconvert_exporter": "python",
   "pygments_lexer": "ipython3",
   "version": "3.7.3"
  }
 },
 "nbformat": 4,
 "nbformat_minor": 2
}
